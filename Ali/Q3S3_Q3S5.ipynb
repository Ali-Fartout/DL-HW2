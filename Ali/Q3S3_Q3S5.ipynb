{
 "cells": [
  {
   "cell_type": "code",
   "execution_count": 12,
   "id": "638c0921",
   "metadata": {},
   "outputs": [],
   "source": [
    "import torch.nn as nn\n",
    "import torch"
   ]
  },
  {
   "cell_type": "code",
   "execution_count": 21,
   "id": "1e6f2889",
   "metadata": {},
   "outputs": [],
   "source": [
    "class CNN(nn.Module):\n",
    "    def __init__(self, gates, in_feature):\n",
    "        super(CNN, self).__init__()\n",
    "        self.gates = gates\n",
    "        self.conv_1 = nn.Conv2d(3,64, 3)\n",
    "        self.conv_2 = nn.Conv2d(64,64, 3)\n",
    "        self.conv_3 = nn.Conv2d(64,128, 3)\n",
    "        self.conv_4 = nn.Conv2d(128,128, 3)\n",
    "        self.conv_5 = nn.Conv2d(128,256, 3)\n",
    "        self.conv_6 = nn.Conv2d(256,256, 1)\n",
    "        self.relu = nn.ReLU()\n",
    "        self.flatten = nn.Flatten()\n",
    "        self.fc_1 = nn.Linear(in_feature, 512)\n",
    "        self.fc_2 = nn.Linear(512, 256)\n",
    "        self.fc_3 = nn.Linear(256, 1)\n",
    "        self.sigmoid = nn.Sigmoid()\n",
    "        \n",
    "        \n",
    "        \n",
    "        \n",
    "    def down_sample(self, x):\n",
    "        x = nn.MaxPool2d(2)(x)\n",
    "        x = nn.BatchNorm2d(x.shape[1], affine=False)(x)\n",
    "        x = nn.ReLU()(x)\n",
    "        x = nn.Dropout(0.2)(x)\n",
    "        \n",
    "        return x\n",
    "    \n",
    "    def batch_norm(self, x):\n",
    "        x =  nn.BatchNorm1d(x.shape[1], affine=False)(x)\n",
    "        return nn.ReLU()(x)\n",
    "    \n",
    "    def conv(self, x):    \n",
    "        x = self.conv_1(x)\n",
    "        x = self.down_sample(x)\n",
    "        \n",
    "        if self.gates[0]:\n",
    "            x = self.conv_2(x)\n",
    "            x = self.down_sample(x)\n",
    "        if self.gates[1]:\n",
    "            x = self.conv_3(x)\n",
    "            x = self.down_sample(x)\n",
    "        if self.gates[2]:    \n",
    "            x = self.conv_4(x)\n",
    "            x = self.down_sample(x)\n",
    "        if self.gates[3]:\n",
    "            x = self.conv_5(x)\n",
    "            x = self.down_sample(x)\n",
    "        if self.gates[4]:     \n",
    "            x = self.conv_6(x)\n",
    "            x = self.down_sample(x)\n",
    "            \n",
    "        x = self.flatten(x)\n",
    "        \n",
    "        return x\n",
    "    \n",
    "    def classifier(self, x):\n",
    "        x = self.fc_1(x)\n",
    "        x = self.relu(x)\n",
    "        x = self.batch_norm(x)\n",
    "        x = self.fc_2(x)\n",
    "        x = self.relu(x)\n",
    "        x = self.batch_norm(x)\n",
    "        x = self.fc_3(x)\n",
    "        x = self.sigmoid(x)\n",
    "        \n",
    "        return x\n",
    "    \n",
    "    def forward(self, x):\n",
    "        x = self.conv(x)\n",
    "        x = self.classifier(x)\n",
    "        \n",
    "        return x"
   ]
  },
  {
   "cell_type": "markdown",
   "id": "ac0dd0d4",
   "metadata": {},
   "source": [
    "# Multi CNN"
   ]
  },
  {
   "cell_type": "code",
   "execution_count": 22,
   "id": "12868789",
   "metadata": {},
   "outputs": [
    {
     "name": "stdout",
     "output_type": "stream",
     "text": [
      "0\n",
      "torch.Size([32, 1])\n",
      "1\n",
      "torch.Size([32, 1])\n",
      "2\n",
      "torch.Size([32, 1])\n",
      "3\n",
      "torch.Size([32, 1])\n",
      "4\n",
      "torch.Size([32, 1])\n",
      "5\n",
      "torch.Size([32, 1])\n"
     ]
    }
   ],
   "source": [
    "gates = [False, False, False, False, False]\n",
    "in_features = [350464, 82944, 36992, 6272, 1024, 256]\n",
    "inputs = torch.randint(0, 255, (32, 3, 150, 150),dtype=torch.float32)\n",
    "for i in range(len(gates)+1):\n",
    "    cnn =  CNN(gates, in_features[i])\n",
    "    print(cnn(inputs).shape)\n",
    "    if i < len(gates):   \n",
    "       gates[i] = True \n"
   ]
  }
 ],
 "metadata": {
  "kernelspec": {
   "display_name": "Python [conda env:Pytorch]",
   "language": "python",
   "name": "conda-env-Pytorch-py"
  },
  "language_info": {
   "codemirror_mode": {
    "name": "ipython",
    "version": 3
   },
   "file_extension": ".py",
   "mimetype": "text/x-python",
   "name": "python",
   "nbconvert_exporter": "python",
   "pygments_lexer": "ipython3",
   "version": "3.9.13"
  }
 },
 "nbformat": 4,
 "nbformat_minor": 5
}
