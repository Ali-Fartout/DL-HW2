{
 "cells": [
  {
   "cell_type": "code",
   "execution_count": 2,
   "id": "c1c627b7",
   "metadata": {},
   "outputs": [],
   "source": [
    "import torch.nn as nn"
   ]
  },
  {
   "cell_type": "code",
   "execution_count": 62,
   "id": "5f3c1b44",
   "metadata": {},
   "outputs": [],
   "source": [
    "class AlexNet(nn.Module):\n",
    "    def __init__(self):\n",
    "        super(AlexNet, self).__init__()\n",
    "        self.conv_1 = nn.Conv2d(in_channels=3, out_channels=16, kernel_size=9)\n",
    "        self.conv_2 = nn.Conv2d(in_channels=16, out_channels=32, kernel_size=7)\n",
    "        self.conv_3 = nn.Conv2d(in_channels=32, out_channels=64, kernel_size=5)\n",
    "        self.conv_4 = nn.Conv2d(in_channels=64, out_channels=128, kernel_size=3)\n",
    "        self.conv_5 = nn.Conv2d(in_channels=128, out_channels=128, kernel_size=3)\n",
    "\n",
    "        self.dropout_dense = nn.Dropout(p=0.5)\n",
    "        self.max_pool = nn.MaxPool2d(2)\n",
    "        self.dropout_pool = nn.Dropout2d(p=0.2)\n",
    "        \n",
    "        self.flatten = nn.Flatten(1)\n",
    "        self.dense_1 = nn.Linear(128, 1024)\n",
    "        self.dense_2 = nn.Linear(1024, 1024)\n",
    "        self.output = nn.Linear(1024, 8)\n",
    "        \n",
    "        self.softmax = nn.Softmax(dim=1)\n",
    "        self.relu = nn.ReLU()\n",
    "        \n",
    "    def forward(self, x):\n",
    "        x = self.conv_1(x)\n",
    "        x = self.max_pool(x)\n",
    "        x = self.dropout_pool(x)\n",
    "        x = self.relu(x)\n",
    "        print(\"pooling 1\",x.shape)\n",
    "\n",
    "        x = self.conv_2(x)\n",
    "        x = self.max_pool(x)\n",
    "        x = self.dropout_pool(x)\n",
    "        x = self.relu(x)\n",
    "        print(\"pooling 2\",x.shape)\n",
    "        \n",
    "\n",
    "        x = self.conv_3(x)\n",
    "        x = self.max_pool(x)\n",
    "        x = self.dropout_pool(x)\n",
    "        x = self.relu(x)\n",
    "        print(\"pooling 3\",x.shape)\n",
    "\n",
    "        x = self.conv_4(x)\n",
    "        x = self.max_pool(x)\n",
    "        x = self.dropout_pool(x)\n",
    "        x = self.relu(x)\n",
    "        print(\"pooling 4\",x.shape)\n",
    "\n",
    "        x = self.conv_5(x)\n",
    "        x = self.max_pool(x)\n",
    "        x = self.relu(x)\n",
    "        x = self.dropout_pool(x)\n",
    "        print(\"pooling 5\",x.shape)\n",
    "\n",
    "        x = self.flatten(x)\n",
    "        x = self.dense_1(x)\n",
    "        x = self.dropout_dense(x)\n",
    "        \n",
    "        x = self.dense_2(x)\n",
    "        x = self.dropout_dense(x)\n",
    "        \n",
    "        x = self.output(x)\n",
    "        return self.softmax(x)\n",
    "\n",
    "\n",
    "        "
   ]
  },
  {
   "cell_type": "code",
   "execution_count": 63,
   "id": "7ddd52d3",
   "metadata": {},
   "outputs": [
    {
     "name": "stdout",
     "output_type": "stream",
     "text": [
      "pooling 1 torch.Size([32, 16, 60, 60])\n",
      "pooling 2 torch.Size([32, 32, 27, 27])\n",
      "pooling 3 torch.Size([32, 64, 11, 11])\n",
      "pooling 4 torch.Size([32, 128, 4, 4])\n",
      "pooling 5 torch.Size([32, 128, 1, 1])\n"
     ]
    },
    {
     "data": {
      "text/plain": [
       "('output -->', torch.Size([32, 8]))"
      ]
     },
     "execution_count": 63,
     "metadata": {},
     "output_type": "execute_result"
    }
   ],
   "source": [
    "inputs = torch.randint(0, 255, (32, 3, 128, 128),dtype=torch.float32)\n",
    "alex_net = AlexNet()\n",
    "out = alex_net(inputs)\n",
    "\"output -->\", out.shape"
   ]
  }
 ],
 "metadata": {
  "kernelspec": {
   "display_name": "Python 3 (ipykernel)",
   "language": "python",
   "name": "python3"
  },
  "language_info": {
   "codemirror_mode": {
    "name": "ipython",
    "version": 3
   },
   "file_extension": ".py",
   "mimetype": "text/x-python",
   "name": "python",
   "nbconvert_exporter": "python",
   "pygments_lexer": "ipython3",
   "version": "3.9.13"
  }
 },
 "nbformat": 4,
 "nbformat_minor": 5
}
