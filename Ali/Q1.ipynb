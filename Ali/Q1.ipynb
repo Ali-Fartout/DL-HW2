{
 "cells": [
  {
   "cell_type": "code",
   "execution_count": 1,
   "id": "c1c627b7",
   "metadata": {},
   "outputs": [],
   "source": [
    "import torch.nn as nn"
   ]
  },
  {
   "cell_type": "markdown",
   "id": "19e166ab",
   "metadata": {},
   "source": [
    "# 2-1"
   ]
  },
  {
   "cell_type": "markdown",
   "id": "74b63125",
   "metadata": {},
   "source": [
    "## load, augment and struct the training dataset"
   ]
  },
  {
   "cell_type": "code",
   "execution_count": 2,
   "id": "74ba7dcb",
   "metadata": {},
   "outputs": [
    {
     "data": {
      "text/plain": [
       "'cuda'"
      ]
     },
     "execution_count": 2,
     "metadata": {},
     "output_type": "execute_result"
    }
   ],
   "source": [
    "import torch\n",
    "from PIL import Image\n",
    "import torchvision\n",
    "import torchvision.transforms as transforms\n",
    "import matplotlib.pyplot as plt\n",
    "\n",
    "device = \"cuda\" if torch.cuda.is_available else \"cpu\"\n",
    "torch.set_default_device(device)\n",
    "torch.manual_seed(42)\n",
    "\n",
    "device"
   ]
  },
  {
   "cell_type": "code",
   "execution_count": 3,
   "id": "dda3d120",
   "metadata": {},
   "outputs": [],
   "source": [
    "import os\n",
    "\n",
    "classes = train_directories = os.listdir(\"./TRAIN/\")\n",
    "discretized_classes = [i for i in range(classes.__len__())]\n",
    "classes, discretized_classes\n",
    "\n",
    "X = torch.zeros((8000 + 8000, 3, 128, 128), dtype=torch.uint8)\n",
    "X_finetune = torch.zeros((1600 + 1600, 3, 128, 128), dtype=torch.uint8)"
   ]
  },
  {
   "cell_type": "code",
   "execution_count": 4,
   "id": "d06f886a",
   "metadata": {},
   "outputs": [],
   "source": [
    "common_transform = transforms.Compose([transforms.PILToTensor()])\n",
    "augmented_transform = transforms.Compose(\n",
    "    [\n",
    "        transforms.PILToTensor(),\n",
    "        transforms.RandomAffine(degrees=20, translate=(0.10, 0.10), shear=30),\n",
    "    ]  # rotation from -20 to 20 , translate %10 along both axes, and rotation along the x-axis\n",
    ")\n",
    "\n",
    "# finetune = torch.zeros((1600 + 1600, 3, 128, 128))\n",
    "some_transformed_random_images_for_showcasing = []\n",
    "\n",
    "for process in [\"TRAIN\"]:\n",
    "    x_iterator = 0\n",
    "    for directory in classes:\n",
    "        directory = f\"./{process}/{directory}\"\n",
    "        for file in os.listdir(directory):\n",
    "            image = Image.open(f\"{directory}/{file}\")\n",
    "            if process == \"TRAIN\":\n",
    "                X[x_iterator] = common_transform(image)\n",
    "                X[x_iterator + 1] = augmented_transform(image)\n",
    "            else:\n",
    "                X_finetune[x_iterator] = common_transform(image)\n",
    "                X_finetune[x_iterator + 1] = augmented_transform(image)\n",
    "            x_iterator += 2"
   ]
  },
  {
   "cell_type": "code",
   "execution_count": 5,
   "id": "d659011e",
   "metadata": {},
   "outputs": [
    {
     "data": {
      "text/plain": [
       "(torch.Size([12000, 3, 128, 128]),\n",
       " torch.Size([4000, 3, 128, 128]),\n",
       " torch.Size([12000]),\n",
       " torch.Size([4000]))"
      ]
     },
     "execution_count": 5,
     "metadata": {},
     "output_type": "execute_result"
    }
   ],
   "source": [
    "from sklearn.model_selection import train_test_split\n",
    "\n",
    "y = torch.zeros(16000, dtype=torch.uint8)\n",
    "y_finetune = torch.zeros(16000, dtype=torch.uint8)\n",
    "\n",
    "for i in range(classes.__len__()):\n",
    "    y[i * 2000 : i * 2000 + 2000] = i\n",
    "    y_finetune[i * 400 : i * 400 + 400] = i\n",
    "x_train, x_val, y_train, y_val = train_test_split(X, y)\n",
    "\n",
    "\n",
    "x_train.shape, x_val.shape, y_train.shape, y_val.shape"
   ]
  },
  {
   "cell_type": "code",
   "execution_count": 6,
   "id": "41c02efb",
   "metadata": {},
   "outputs": [
    {
     "ename": "NameError",
     "evalue": "name 'X_train' is not defined",
     "output_type": "error",
     "traceback": [
      "\u001b[1;31m---------------------------------------------------------------------------\u001b[0m",
      "\u001b[1;31mNameError\u001b[0m                                 Traceback (most recent call last)",
      "\u001b[1;32m~\\AppData\\Local\\Temp\\ipykernel_16864\\3866999472.py\u001b[0m in \u001b[0;36m<module>\u001b[1;34m\u001b[0m\n\u001b[1;32m----> 1\u001b[1;33m \u001b[0mX_train\u001b[0m\u001b[1;33m[\u001b[0m\u001b[1;36m0\u001b[0m\u001b[1;33m]\u001b[0m\u001b[1;33m\u001b[0m\u001b[1;33m\u001b[0m\u001b[0m\n\u001b[0m",
      "\u001b[1;31mNameError\u001b[0m: name 'X_train' is not defined"
     ]
    }
   ],
   "source": [
    "X_train[0]"
   ]
  },
  {
   "cell_type": "markdown",
   "id": "a4ee0d82",
   "metadata": {},
   "source": [
    "# Train dataset"
   ]
  },
  {
   "cell_type": "code",
   "execution_count": 32,
   "id": "bc1e7b42",
   "metadata": {},
   "outputs": [
    {
     "data": {
      "text/plain": [
       "'cuda'"
      ]
     },
     "execution_count": 32,
     "metadata": {},
     "output_type": "execute_result"
    }
   ],
   "source": [
    "device = \"cuda\" if torch.cuda.is_available else \"cpu\"\n",
    "torch.set_default_device(device)\n",
    "torch.manual_seed(42)\n",
    "\n",
    "device"
   ]
  },
  {
   "cell_type": "code",
   "execution_count": 42,
   "id": "a80c05f6",
   "metadata": {},
   "outputs": [],
   "source": [
    "import random\n",
    "import torch\n",
    "from torchvision import transforms\n",
    "from torchvision.datasets import ImageFolder\n",
    "from torch.utils.data import Dataset, ConcatDataset\n",
    "\n",
    "generator = torch.Generator(device=device)\n",
    "# Define augmentation transforms\n",
    "rotation_degrees = 20\n",
    "translation_percent = 0.1\n",
    "validation_ratio = 0.2\n",
    "\n",
    "transform_list = [\n",
    "    transforms.RandomRotation(degrees=(-rotation_degrees, rotation_degrees)),\n",
    "    transforms.RandomAffine(degrees=0, translate=(translation_percent, translation_percent)),\n",
    "    transforms.RandomVerticalFlip(p=0.5),\n",
    "    \n",
    "]\n",
    "\n",
    "# Path and configurations\n",
    "data_dir = \"./TRAIN/\"\n",
    "batch_size = 400\n",
    "\n",
    "# Original dataset without augmentation\n",
    "original_dataset = ImageFolder(root=data_dir, transform=transforms.ToTensor())\n",
    "\n",
    "augmented = []\n",
    "for index, (data, label) in enumerate(original_dataset):\n",
    "    images = []\n",
    "    for transform in transform_list:\n",
    "        if random.random() > 0.15:\n",
    "            transformed_data = transform(data)\n",
    "            images.append(transformed_data)\n",
    "            if len(images) >= 2 and random.random() > 0.50:\n",
    "                transformed_data = transform(images[-2])\n",
    "                images.append(transformed_data)\n",
    "    else:\n",
    "        for image in images:  augmented.append((image, label))\n",
    "        \n",
    "        \n",
    "        \n",
    "\n",
    "class AugmentedCustomDataset(Dataset):\n",
    "    def __init__(self, augmented_data):\n",
    "        self.augmented_data = augmented_data\n",
    "\n",
    "    def __len__(self):\n",
    "        return len(self.augmented_data)\n",
    "\n",
    "    def __getitem__(self, idx):\n",
    "        images, label = self.augmented_data[idx]\n",
    "        tensor_images = [torch.Tensor(image) for image in images]\n",
    "        combined_images = torch.stack(tensor_images)\n",
    "        \n",
    "        return combined_images, label\n",
    "\n",
    "custom_augmented_dataset = AugmentedCustomDataset(augmented)\n",
    "combined_dataset = torch.utils.data.ConcatDataset([original_dataset, custom_augmented_dataset])\n",
    "\n",
    "val_size = int(len(combined_dataset) * validation_ratio)\n",
    "train_size = int(len(combined_dataset) - val_size)\n",
    "\n"
   ]
  },
  {
   "cell_type": "code",
   "execution_count": 43,
   "id": "4f967904",
   "metadata": {},
   "outputs": [
    {
     "data": {
      "text/plain": [
       "'cuda'"
      ]
     },
     "execution_count": 43,
     "metadata": {},
     "output_type": "execute_result"
    }
   ],
   "source": [
    "device"
   ]
  },
  {
   "cell_type": "code",
   "execution_count": 44,
   "id": "e579c318",
   "metadata": {},
   "outputs": [],
   "source": [
    "generator = torch.Generator(device=device)\n",
    "train_dataset, val_dataset = torch.utils.data.random_split(combined_dataset, [train_size, val_size], generator=generator)\n",
    "train_loader = torch.utils.data.DataLoader(train_dataset, batch_size=400, shuffle=True,generator=torch.Generator(device='cuda'))\n",
    "val_loader = torch.utils.data.DataLoader(val_dataset, batch_size=400, shuffle=False,generator=torch.Generator(device='cuda'))"
   ]
  },
  {
   "cell_type": "markdown",
   "id": "d5f3d6a9",
   "metadata": {},
   "source": [
    "# Fine tune dataset"
   ]
  },
  {
   "cell_type": "code",
   "execution_count": 67,
   "id": "7344ff26",
   "metadata": {},
   "outputs": [],
   "source": [
    "\n",
    "\n",
    "data_dir = './TUNE/'\n",
    "data_transforms = transforms.Compose([\n",
    "    transforms.ToTensor()\n",
    "])\n",
    "custom_dataset = ImageFolder(root=data_dir, transform=data_transforms)\n",
    "\n",
    "batch_size = 400 \n",
    "val_size = int(len(custom_dataset) * 0.1)\n",
    "train_size = int(len(custom_dataset) - val_size)\n",
    "\n",
    "\n",
    "generator = torch.Generator(device=device)\n",
    "train_dataset_ft, val_dataset_ft = torch.utils.data.random_split(custom_dataset, [train_size, val_size],generator=generator)\n",
    "train_loader_ft = torch.utils.data.DataLoader(train_dataset_ft, batch_size=1, shuffle=True,generator=torch.Generator(device='cuda'))\n",
    "val_loader_ft = torch.utils.data.DataLoader(val_dataset_ft, batch_size=1, shuffle=False,generator=torch.Generator(device='cuda'))"
   ]
  },
  {
   "cell_type": "markdown",
   "id": "1cae6707",
   "metadata": {},
   "source": [
    "# 3-1"
   ]
  },
  {
   "cell_type": "code",
   "execution_count": 55,
   "id": "5f3c1b44",
   "metadata": {},
   "outputs": [],
   "source": [
    "import torch.nn as nn\n",
    "\n",
    "class AlexNet(nn.Module):\n",
    "    def __init__(self):\n",
    "        super(AlexNet, self).__init__()\n",
    "        self.conv_1 = nn.Conv2d(in_channels=3, out_channels=16, kernel_size=9, padding=4)\n",
    "        self.bn1 = nn.BatchNorm2d(16, affine=False)\n",
    "        self.conv_2 = nn.Conv2d(in_channels=16, out_channels=32, kernel_size=7, padding=3)\n",
    "        self.bn2 = nn.BatchNorm2d(32, affine=False)\n",
    "        self.conv_3 = nn.Conv2d(in_channels=32, out_channels=64, kernel_size=5, padding=2)\n",
    "        self.bn3 = nn.BatchNorm2d(64, affine=False)\n",
    "        self.conv_4 = nn.Conv2d(in_channels=64, out_channels=128, kernel_size=3, padding=1)\n",
    "        self.bn4 = nn.BatchNorm2d(128, affine=False)\n",
    "        self.conv_5 = nn.Conv2d(in_channels=128, out_channels=128, kernel_size=3, padding=1)\n",
    "        self.bn5 = nn.BatchNorm2d(128, affine=False)\n",
    "        self.dropout_dense = nn.Dropout(p=0.5)\n",
    "        self.max_pool = nn.MaxPool2d(2)\n",
    "        self.dropout_pool = nn.Dropout2d(p=0.2)\n",
    "        \n",
    "        self.flatten = nn.Flatten(1)\n",
    "        self.dense_1 = nn.Linear(2048, 1024)\n",
    "        self.dense_2 = nn.Linear(1024, 1024)\n",
    "        \n",
    "        self.output = nn.Linear(1024, 8)\n",
    "        \n",
    "        self.softmax = nn.Softmax(dim=1)\n",
    "        self.relu = nn.ReLU()\n",
    "        \n",
    "    def forward(self, x):\n",
    "        x = self.conv_1(x)\n",
    "        x = self.relu(x)\n",
    "        x = self.bn1(x)\n",
    "        x = self.max_pool(x)\n",
    "       \n",
    "#         x = self.dropout_pool(x)\n",
    "\n",
    "        x = self.conv_2(x)\n",
    "        x = self.relu(x)\n",
    "        x = self.bn2(x)\n",
    "        x = self.max_pool(x)\n",
    "#         x = self.dropout_pool(x)\n",
    "        \n",
    "        x = self.conv_3(x)\n",
    "        x = self.relu(x)\n",
    "        x = self.bn3(x)\n",
    "        x = self.max_pool(x)\n",
    "#         x = self.dropout_pool(x)\n",
    "\n",
    "        x = self.conv_4(x)\n",
    "        x = self.relu(x)\n",
    "        x = self.bn4(x)\n",
    "        x = self.max_pool(x)\n",
    "#         x = self.dropout_pool(x)\n",
    "\n",
    "        x = self.conv_5(x)\n",
    "        x = self.bn5(x)\n",
    "        x = self.relu(x)\n",
    "        x = self.max_pool(x)\n",
    "#         x = self.dropout_pool(x)\n",
    "\n",
    "        x = self.flatten(x)\n",
    "        x = self.dense_1(x)\n",
    "#         x = self.dropout_pool(x)\n",
    "        \n",
    "        x = self.dense_2(x)\n",
    "#         x = self.dropout_pool(x)\n",
    "        \n",
    "        x = self.output(x)\n",
    "        return x\n"
   ]
  },
  {
   "cell_type": "markdown",
   "id": "c6740e9f",
   "metadata": {},
   "source": [
    "# ---------------------------------------------------------"
   ]
  },
  {
   "cell_type": "code",
   "execution_count": 56,
   "id": "3cd2ca16",
   "metadata": {},
   "outputs": [],
   "source": [
    "import torch.optim as optim\n",
    "\n",
    "alex_net = AlexNet().to(device).float()\n",
    "optimizer = optim.Adam(alex_net.parameters(), lr=0.001) \n",
    "criterion = nn.CrossEntropyLoss()"
   ]
  },
  {
   "cell_type": "markdown",
   "id": "3391f958",
   "metadata": {},
   "source": [
    "# Training"
   ]
  },
  {
   "cell_type": "code",
   "execution_count": 61,
   "id": "7ddd52d3",
   "metadata": {},
   "outputs": [
    {
     "ename": "KeyboardInterrupt",
     "evalue": "",
     "output_type": "error",
     "traceback": [
      "\u001b[1;31m---------------------------------------------------------------------------\u001b[0m",
      "\u001b[1;31mKeyboardInterrupt\u001b[0m                         Traceback (most recent call last)",
      "\u001b[1;32m~\\AppData\\Local\\Temp\\ipykernel_16864\\683410631.py\u001b[0m in \u001b[0;36m<module>\u001b[1;34m\u001b[0m\n\u001b[0;32m     15\u001b[0m         \u001b[0mloss\u001b[0m \u001b[1;33m=\u001b[0m \u001b[0mcriterion\u001b[0m\u001b[1;33m(\u001b[0m\u001b[0moutputs\u001b[0m\u001b[1;33m,\u001b[0m \u001b[0mlabels\u001b[0m\u001b[1;33m)\u001b[0m\u001b[1;33m\u001b[0m\u001b[1;33m\u001b[0m\u001b[0m\n\u001b[0;32m     16\u001b[0m         \u001b[0mloss\u001b[0m\u001b[1;33m.\u001b[0m\u001b[0mbackward\u001b[0m\u001b[1;33m(\u001b[0m\u001b[1;33m)\u001b[0m\u001b[1;33m\u001b[0m\u001b[1;33m\u001b[0m\u001b[0m\n\u001b[1;32m---> 17\u001b[1;33m         \u001b[0moptimizer\u001b[0m\u001b[1;33m.\u001b[0m\u001b[0mstep\u001b[0m\u001b[1;33m(\u001b[0m\u001b[1;33m)\u001b[0m\u001b[1;33m\u001b[0m\u001b[1;33m\u001b[0m\u001b[0m\n\u001b[0m\u001b[0;32m     18\u001b[0m         \u001b[0mrunning_loss\u001b[0m \u001b[1;33m+=\u001b[0m \u001b[0mloss\u001b[0m\u001b[1;33m.\u001b[0m\u001b[0mitem\u001b[0m\u001b[1;33m(\u001b[0m\u001b[1;33m)\u001b[0m\u001b[1;33m\u001b[0m\u001b[1;33m\u001b[0m\u001b[0m\n\u001b[0;32m     19\u001b[0m \u001b[1;33m\u001b[0m\u001b[0m\n",
      "\u001b[1;32m~\\anaconda3\\lib\\site-packages\\torch\\optim\\optimizer.py\u001b[0m in \u001b[0;36mwrapper\u001b[1;34m(*args, **kwargs)\u001b[0m\n\u001b[0;32m    278\u001b[0m                                                f\"but got {result}.\")\n\u001b[0;32m    279\u001b[0m \u001b[1;33m\u001b[0m\u001b[0m\n\u001b[1;32m--> 280\u001b[1;33m                 \u001b[0mout\u001b[0m \u001b[1;33m=\u001b[0m \u001b[0mfunc\u001b[0m\u001b[1;33m(\u001b[0m\u001b[1;33m*\u001b[0m\u001b[0margs\u001b[0m\u001b[1;33m,\u001b[0m \u001b[1;33m**\u001b[0m\u001b[0mkwargs\u001b[0m\u001b[1;33m)\u001b[0m\u001b[1;33m\u001b[0m\u001b[1;33m\u001b[0m\u001b[0m\n\u001b[0m\u001b[0;32m    281\u001b[0m                 \u001b[0mself\u001b[0m\u001b[1;33m.\u001b[0m\u001b[0m_optimizer_step_code\u001b[0m\u001b[1;33m(\u001b[0m\u001b[1;33m)\u001b[0m\u001b[1;33m\u001b[0m\u001b[1;33m\u001b[0m\u001b[0m\n\u001b[0;32m    282\u001b[0m \u001b[1;33m\u001b[0m\u001b[0m\n",
      "\u001b[1;32m~\\anaconda3\\lib\\site-packages\\torch\\optim\\optimizer.py\u001b[0m in \u001b[0;36m_use_grad\u001b[1;34m(self, *args, **kwargs)\u001b[0m\n\u001b[0;32m     31\u001b[0m         \u001b[1;32mtry\u001b[0m\u001b[1;33m:\u001b[0m\u001b[1;33m\u001b[0m\u001b[1;33m\u001b[0m\u001b[0m\n\u001b[0;32m     32\u001b[0m             \u001b[0mtorch\u001b[0m\u001b[1;33m.\u001b[0m\u001b[0mset_grad_enabled\u001b[0m\u001b[1;33m(\u001b[0m\u001b[0mself\u001b[0m\u001b[1;33m.\u001b[0m\u001b[0mdefaults\u001b[0m\u001b[1;33m[\u001b[0m\u001b[1;34m'differentiable'\u001b[0m\u001b[1;33m]\u001b[0m\u001b[1;33m)\u001b[0m\u001b[1;33m\u001b[0m\u001b[1;33m\u001b[0m\u001b[0m\n\u001b[1;32m---> 33\u001b[1;33m             \u001b[0mret\u001b[0m \u001b[1;33m=\u001b[0m \u001b[0mfunc\u001b[0m\u001b[1;33m(\u001b[0m\u001b[0mself\u001b[0m\u001b[1;33m,\u001b[0m \u001b[1;33m*\u001b[0m\u001b[0margs\u001b[0m\u001b[1;33m,\u001b[0m \u001b[1;33m**\u001b[0m\u001b[0mkwargs\u001b[0m\u001b[1;33m)\u001b[0m\u001b[1;33m\u001b[0m\u001b[1;33m\u001b[0m\u001b[0m\n\u001b[0m\u001b[0;32m     34\u001b[0m         \u001b[1;32mfinally\u001b[0m\u001b[1;33m:\u001b[0m\u001b[1;33m\u001b[0m\u001b[1;33m\u001b[0m\u001b[0m\n\u001b[0;32m     35\u001b[0m             \u001b[0mtorch\u001b[0m\u001b[1;33m.\u001b[0m\u001b[0mset_grad_enabled\u001b[0m\u001b[1;33m(\u001b[0m\u001b[0mprev_grad\u001b[0m\u001b[1;33m)\u001b[0m\u001b[1;33m\u001b[0m\u001b[1;33m\u001b[0m\u001b[0m\n",
      "\u001b[1;32m~\\anaconda3\\lib\\site-packages\\torch\\optim\\adam.py\u001b[0m in \u001b[0;36mstep\u001b[1;34m(self, closure)\u001b[0m\n\u001b[0;32m    139\u001b[0m                 state_steps)\n\u001b[0;32m    140\u001b[0m \u001b[1;33m\u001b[0m\u001b[0m\n\u001b[1;32m--> 141\u001b[1;33m             adam(\n\u001b[0m\u001b[0;32m    142\u001b[0m                 \u001b[0mparams_with_grad\u001b[0m\u001b[1;33m,\u001b[0m\u001b[1;33m\u001b[0m\u001b[1;33m\u001b[0m\u001b[0m\n\u001b[0;32m    143\u001b[0m                 \u001b[0mgrads\u001b[0m\u001b[1;33m,\u001b[0m\u001b[1;33m\u001b[0m\u001b[1;33m\u001b[0m\u001b[0m\n",
      "\u001b[1;32m~\\anaconda3\\lib\\site-packages\\torch\\optim\\adam.py\u001b[0m in \u001b[0;36madam\u001b[1;34m(params, grads, exp_avgs, exp_avg_sqs, max_exp_avg_sqs, state_steps, foreach, capturable, differentiable, fused, grad_scale, found_inf, amsgrad, beta1, beta2, lr, weight_decay, eps, maximize)\u001b[0m\n\u001b[0;32m    279\u001b[0m         \u001b[0mfunc\u001b[0m \u001b[1;33m=\u001b[0m \u001b[0m_single_tensor_adam\u001b[0m\u001b[1;33m\u001b[0m\u001b[1;33m\u001b[0m\u001b[0m\n\u001b[0;32m    280\u001b[0m \u001b[1;33m\u001b[0m\u001b[0m\n\u001b[1;32m--> 281\u001b[1;33m     func(params,\n\u001b[0m\u001b[0;32m    282\u001b[0m          \u001b[0mgrads\u001b[0m\u001b[1;33m,\u001b[0m\u001b[1;33m\u001b[0m\u001b[1;33m\u001b[0m\u001b[0m\n\u001b[0;32m    283\u001b[0m          \u001b[0mexp_avgs\u001b[0m\u001b[1;33m,\u001b[0m\u001b[1;33m\u001b[0m\u001b[1;33m\u001b[0m\u001b[0m\n",
      "\u001b[1;32m~\\anaconda3\\lib\\site-packages\\torch\\optim\\adam.py\u001b[0m in \u001b[0;36m_multi_tensor_adam\u001b[1;34m(params, grads, exp_avgs, exp_avg_sqs, max_exp_avg_sqs, state_steps, grad_scale, found_inf, amsgrad, beta1, beta2, lr, weight_decay, eps, maximize, capturable, differentiable)\u001b[0m\n\u001b[0;32m    487\u001b[0m             \u001b[0mtorch\u001b[0m\u001b[1;33m.\u001b[0m\u001b[0m_foreach_addcdiv_\u001b[0m\u001b[1;33m(\u001b[0m\u001b[0mparams_\u001b[0m\u001b[1;33m,\u001b[0m \u001b[0mdevice_exp_avgs\u001b[0m\u001b[1;33m,\u001b[0m \u001b[0mdenom\u001b[0m\u001b[1;33m)\u001b[0m\u001b[1;33m\u001b[0m\u001b[1;33m\u001b[0m\u001b[0m\n\u001b[0;32m    488\u001b[0m         \u001b[1;32melse\u001b[0m\u001b[1;33m:\u001b[0m\u001b[1;33m\u001b[0m\u001b[1;33m\u001b[0m\u001b[0m\n\u001b[1;32m--> 489\u001b[1;33m             \u001b[0mbias_correction1\u001b[0m \u001b[1;33m=\u001b[0m \u001b[1;33m[\u001b[0m\u001b[1;36m1\u001b[0m \u001b[1;33m-\u001b[0m \u001b[0mbeta1\u001b[0m \u001b[1;33m**\u001b[0m \u001b[0m_get_value\u001b[0m\u001b[1;33m(\u001b[0m\u001b[0mstep\u001b[0m\u001b[1;33m)\u001b[0m \u001b[1;32mfor\u001b[0m \u001b[0mstep\u001b[0m \u001b[1;32min\u001b[0m \u001b[0mdevice_state_steps\u001b[0m\u001b[1;33m]\u001b[0m\u001b[1;33m\u001b[0m\u001b[1;33m\u001b[0m\u001b[0m\n\u001b[0m\u001b[0;32m    490\u001b[0m             \u001b[0mbias_correction2\u001b[0m \u001b[1;33m=\u001b[0m \u001b[1;33m[\u001b[0m\u001b[1;36m1\u001b[0m \u001b[1;33m-\u001b[0m \u001b[0mbeta2\u001b[0m \u001b[1;33m**\u001b[0m \u001b[0m_get_value\u001b[0m\u001b[1;33m(\u001b[0m\u001b[0mstep\u001b[0m\u001b[1;33m)\u001b[0m \u001b[1;32mfor\u001b[0m \u001b[0mstep\u001b[0m \u001b[1;32min\u001b[0m \u001b[0mdevice_state_steps\u001b[0m\u001b[1;33m]\u001b[0m\u001b[1;33m\u001b[0m\u001b[1;33m\u001b[0m\u001b[0m\n\u001b[0;32m    491\u001b[0m \u001b[1;33m\u001b[0m\u001b[0m\n",
      "\u001b[1;32m~\\anaconda3\\lib\\site-packages\\torch\\optim\\adam.py\u001b[0m in \u001b[0;36m<listcomp>\u001b[1;34m(.0)\u001b[0m\n\u001b[0;32m    487\u001b[0m             \u001b[0mtorch\u001b[0m\u001b[1;33m.\u001b[0m\u001b[0m_foreach_addcdiv_\u001b[0m\u001b[1;33m(\u001b[0m\u001b[0mparams_\u001b[0m\u001b[1;33m,\u001b[0m \u001b[0mdevice_exp_avgs\u001b[0m\u001b[1;33m,\u001b[0m \u001b[0mdenom\u001b[0m\u001b[1;33m)\u001b[0m\u001b[1;33m\u001b[0m\u001b[1;33m\u001b[0m\u001b[0m\n\u001b[0;32m    488\u001b[0m         \u001b[1;32melse\u001b[0m\u001b[1;33m:\u001b[0m\u001b[1;33m\u001b[0m\u001b[1;33m\u001b[0m\u001b[0m\n\u001b[1;32m--> 489\u001b[1;33m             \u001b[0mbias_correction1\u001b[0m \u001b[1;33m=\u001b[0m \u001b[1;33m[\u001b[0m\u001b[1;36m1\u001b[0m \u001b[1;33m-\u001b[0m \u001b[0mbeta1\u001b[0m \u001b[1;33m**\u001b[0m \u001b[0m_get_value\u001b[0m\u001b[1;33m(\u001b[0m\u001b[0mstep\u001b[0m\u001b[1;33m)\u001b[0m \u001b[1;32mfor\u001b[0m \u001b[0mstep\u001b[0m \u001b[1;32min\u001b[0m \u001b[0mdevice_state_steps\u001b[0m\u001b[1;33m]\u001b[0m\u001b[1;33m\u001b[0m\u001b[1;33m\u001b[0m\u001b[0m\n\u001b[0m\u001b[0;32m    490\u001b[0m             \u001b[0mbias_correction2\u001b[0m \u001b[1;33m=\u001b[0m \u001b[1;33m[\u001b[0m\u001b[1;36m1\u001b[0m \u001b[1;33m-\u001b[0m \u001b[0mbeta2\u001b[0m \u001b[1;33m**\u001b[0m \u001b[0m_get_value\u001b[0m\u001b[1;33m(\u001b[0m\u001b[0mstep\u001b[0m\u001b[1;33m)\u001b[0m \u001b[1;32mfor\u001b[0m \u001b[0mstep\u001b[0m \u001b[1;32min\u001b[0m \u001b[0mdevice_state_steps\u001b[0m\u001b[1;33m]\u001b[0m\u001b[1;33m\u001b[0m\u001b[1;33m\u001b[0m\u001b[0m\n\u001b[0;32m    491\u001b[0m \u001b[1;33m\u001b[0m\u001b[0m\n",
      "\u001b[1;32m~\\anaconda3\\lib\\site-packages\\torch\\optim\\optimizer.py\u001b[0m in \u001b[0;36m_get_value\u001b[1;34m(x)\u001b[0m\n\u001b[0;32m     42\u001b[0m         \u001b[1;32mreturn\u001b[0m \u001b[0mx\u001b[0m\u001b[1;33m\u001b[0m\u001b[1;33m\u001b[0m\u001b[0m\n\u001b[0;32m     43\u001b[0m     \u001b[1;32melse\u001b[0m\u001b[1;33m:\u001b[0m\u001b[1;33m\u001b[0m\u001b[1;33m\u001b[0m\u001b[0m\n\u001b[1;32m---> 44\u001b[1;33m         \u001b[1;32mreturn\u001b[0m \u001b[0mx\u001b[0m\u001b[1;33m.\u001b[0m\u001b[0mitem\u001b[0m\u001b[1;33m(\u001b[0m\u001b[1;33m)\u001b[0m\u001b[1;33m\u001b[0m\u001b[1;33m\u001b[0m\u001b[0m\n\u001b[0m\u001b[0;32m     45\u001b[0m \u001b[1;33m\u001b[0m\u001b[0m\n\u001b[0;32m     46\u001b[0m \u001b[1;32mdef\u001b[0m \u001b[0m_stack_if_compiling\u001b[0m\u001b[1;33m(\u001b[0m\u001b[0mx\u001b[0m\u001b[1;33m)\u001b[0m\u001b[1;33m:\u001b[0m\u001b[1;33m\u001b[0m\u001b[1;33m\u001b[0m\u001b[0m\n",
      "\u001b[1;31mKeyboardInterrupt\u001b[0m: "
     ]
    }
   ],
   "source": [
    "num_epochs = 24\n",
    "\n",
    "for epoch in range(num_epochs):\n",
    "    alex_net.train()\n",
    "    running_loss = 0.0\n",
    "    correct_train = 0\n",
    "    total_train = 0\n",
    "    \n",
    "\n",
    "    for inputs, labels in train_loader:\n",
    "        inputs, labels = inputs.to(device), labels.to(device)\n",
    "\n",
    "        optimizer.zero_grad()\n",
    "        outputs = alex_net(inputs)\n",
    "        loss = criterion(outputs, labels)\n",
    "        loss.backward()\n",
    "        optimizer.step()\n",
    "        running_loss += loss.item()\n",
    "\n",
    "        _, predicted = torch.max(outputs, 1)\n",
    "        total_train += labels.size(0)\n",
    "        correct_train += (predicted == labels).sum().item()\n",
    "\n",
    "    train_accuracy = 100 * correct_train / total_train\n",
    "    alex_net.eval()\n",
    "    val_loss = 0.0\n",
    "    correct_val = 0\n",
    "    total_val = 0\n",
    "\n",
    "    with torch.no_grad():\n",
    "        for inputs, labels in val_loader:\n",
    "            inputs, labels = inputs.to(device), labels.to(device)\n",
    "            outputs = alex_net(inputs)\n",
    "            loss = criterion(outputs, labels)\n",
    "            val_loss += loss.item()\n",
    "\n",
    "            _, predicted = torch.max(outputs, 1)\n",
    "            total_val += labels.size(0)\n",
    "            correct_val += (predicted == labels).sum().item()\n",
    "\n",
    "    val_accuracy = 100 * correct_val / total_val\n",
    "\n",
    "    epoch_loss = running_loss / len(train_loader)\n",
    "    epoch_val_loss = val_loss / len(val_loader)\n",
    "    print(f\"Epoch [{epoch + 1}/{num_epochs}] - Loss: {epoch_loss:.4f} - Val Loss: {epoch_val_loss:.4f} - Train Acc: {train_accuracy:.2f}% - Val Acc: {val_accuracy:.2f}%\")"
   ]
  },
  {
   "cell_type": "markdown",
   "id": "dbe7f282",
   "metadata": {},
   "source": [
    "# Fine-tuning"
   ]
  },
  {
   "cell_type": "code",
   "execution_count": 68,
   "id": "af7dcdce",
   "metadata": {},
   "outputs": [
    {
     "name": "stdout",
     "output_type": "stream",
     "text": [
      "Epoch [1/16] - Loss: 3.4538 - Val Loss: 3.4250 - Train Acc: 33.26% - Val Acc: 26.88%\n",
      "Epoch [2/16] - Loss: 3.2084 - Val Loss: 2.7107 - Train Acc: 35.07% - Val Acc: 20.00%\n",
      "Epoch [3/16] - Loss: 1.8088 - Val Loss: 7.7623 - Train Acc: 37.85% - Val Acc: 28.12%\n",
      "Epoch [4/16] - Loss: 3.0428 - Val Loss: 8.0784 - Train Acc: 38.68% - Val Acc: 29.38%\n",
      "Epoch [5/16] - Loss: 1.3501 - Val Loss: 4.5862 - Train Acc: 47.08% - Val Acc: 21.25%\n",
      "Epoch [6/16] - Loss: 2.1784 - Val Loss: 4.2656 - Train Acc: 41.88% - Val Acc: 30.62%\n",
      "Epoch [7/16] - Loss: 1.9735 - Val Loss: 3.6783 - Train Acc: 46.67% - Val Acc: 27.50%\n",
      "Epoch [8/16] - Loss: 1.4923 - Val Loss: 3.2028 - Train Acc: 52.29% - Val Acc: 32.50%\n",
      "Epoch [9/16] - Loss: 2.9876 - Val Loss: 3.5495 - Train Acc: 50.49% - Val Acc: 35.62%\n",
      "Epoch [10/16] - Loss: 0.8578 - Val Loss: 5.2195 - Train Acc: 66.88% - Val Acc: 26.25%\n",
      "Epoch [11/16] - Loss: 2.7040 - Val Loss: 2.9736 - Train Acc: 51.60% - Val Acc: 32.50%\n",
      "Epoch [12/16] - Loss: 6.9231 - Val Loss: 4.0150 - Train Acc: 59.31% - Val Acc: 26.25%\n",
      "Epoch [13/16] - Loss: 0.9799 - Val Loss: 3.1803 - Train Acc: 64.17% - Val Acc: 28.75%\n",
      "Epoch [14/16] - Loss: 0.6537 - Val Loss: 4.3844 - Train Acc: 75.35% - Val Acc: 28.12%\n",
      "Epoch [15/16] - Loss: 2.4152 - Val Loss: 3.8933 - Train Acc: 62.57% - Val Acc: 31.88%\n",
      "Epoch [16/16] - Loss: 0.7308 - Val Loss: 11.9719 - Train Acc: 73.26% - Val Acc: 21.25%\n"
     ]
    }
   ],
   "source": [
    "for epoch in range(16):\n",
    "    alex_net.train()\n",
    "    running_loss = 0.0\n",
    "    correct_train = 0\n",
    "    total_train = 0\n",
    "    \n",
    "\n",
    "    for inputs, labels in train_loader_ft:\n",
    "        inputs, labels = inputs.to(device), labels.to(device)\n",
    "\n",
    "        optimizer.zero_grad()\n",
    "        outputs = alex_net(inputs)\n",
    "        loss = criterion(outputs, labels)\n",
    "        loss.backward()\n",
    "        optimizer.step()\n",
    "        running_loss += loss.item()\n",
    "\n",
    "        _, predicted = torch.max(outputs, 1)\n",
    "        total_train += labels.size(0)\n",
    "        correct_train += (predicted == labels).sum().item()\n",
    "\n",
    "    train_accuracy = 100 * correct_train / total_train\n",
    "    alex_net.eval()\n",
    "    val_loss = 0.0\n",
    "    correct_val = 0\n",
    "    total_val = 0\n",
    "\n",
    "    with torch.no_grad():\n",
    "        for inputs, labels in val_loader_ft:\n",
    "            inputs, labels = inputs.to(device), labels.to(device)\n",
    "            outputs = alex_net(inputs)\n",
    "            loss = criterion(outputs, labels)\n",
    "            val_loss += loss.item()\n",
    "\n",
    "            _, predicted = torch.max(outputs, 1)\n",
    "            total_val += labels.size(0)\n",
    "            correct_val += (predicted == labels).sum().item()\n",
    "\n",
    "    val_accuracy = 100 * correct_val / total_val\n",
    "\n",
    "    epoch_loss = running_loss / len(train_loader_ft)\n",
    "    epoch_val_loss = val_loss / len(val_loader_ft)\n",
    "    print(f\"Epoch [{epoch + 1}/{16}] - Loss: {epoch_loss:.4f} - Val Loss: {epoch_val_loss:.4f} - Train Acc: {train_accuracy:.2f}% - Val Acc: {val_accuracy:.2f}%\")"
   ]
  }
 ],
 "metadata": {
  "kernelspec": {
   "display_name": "Python 3 (ipykernel)",
   "language": "python",
   "name": "python3"
  },
  "language_info": {
   "codemirror_mode": {
    "name": "ipython",
    "version": 3
   },
   "file_extension": ".py",
   "mimetype": "text/x-python",
   "name": "python",
   "nbconvert_exporter": "python",
   "pygments_lexer": "ipython3",
   "version": "3.9.13"
  }
 },
 "nbformat": 4,
 "nbformat_minor": 5
}
