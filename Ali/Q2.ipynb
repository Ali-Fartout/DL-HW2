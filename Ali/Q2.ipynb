{
 "cells": [
  {
   "cell_type": "code",
   "execution_count": 66,
   "id": "890a6b27",
   "metadata": {},
   "outputs": [
    {
     "name": "stderr",
     "output_type": "stream",
     "text": [
      "C:\\Users\\11\\AppData\\Local\\Temp\\ipykernel_4164\\2522844800.py:63: UserWarning: Implicit dimension choice for softmax has been deprecated. Change the call to include dim=X as an argument.\n",
      "  return self.softmax(x)\n"
     ]
    }
   ],
   "source": [
    "import torch\n",
    "import torch.nn as nn\n",
    "\n",
    "import torch\n",
    "import torch.nn as nn\n",
    "\n",
    "class DepthwiseSeparableConv(nn.Module):\n",
    "    def __init__(self, in_channels, out_channels, kernel_size, stride=1, padding=0):\n",
    "        super(DepthwiseSeparableConv, self).__init__()\n",
    "        self.depthwise = nn.Conv2d(in_channels, in_channels, kernel_size=kernel_size, stride=stride, padding=padding, groups=in_channels)\n",
    "        self.bn1 = nn.BatchNorm2d(in_channels)\n",
    "\n",
    "        self.pointwise = nn.Conv2d(in_channels, out_channels, kernel_size=1)\n",
    "        self.bn2 = nn.BatchNorm2d(out_channels)\n",
    "        self.relu = nn.ReLU()\n",
    "\n",
    "    def forward(self, x):\n",
    "\n",
    "        x = self.depthwise(x)\n",
    "        x = self.bn1(x)\n",
    "        x = self.relu(x)\n",
    "        \n",
    "        x = self.pointwise(x)\n",
    "        x = self.bn2(x)\n",
    "        x = self.relu(x)\n",
    "        return x\n",
    "\n",
    "class CustomDecoder(nn.Module):\n",
    "    def __init__(self, num_classes=8):\n",
    "        super(CustomDecoder, self).__init__()\n",
    "        self.conv1 = nn.Conv2d(3, 32, kernel_size=3, stride=2, padding=1)\n",
    "        self.dconv1 = DepthwiseSeparableConv(32, 64, kernel_size=3, stride=1, padding=1)\n",
    "        self.dconv2 = DepthwiseSeparableConv(64, 128, kernel_size=3, stride=2, padding=1)\n",
    "        self.dconv3 = DepthwiseSeparableConv(128, 128, kernel_size=3, stride=1, padding=1)\n",
    "        self.dconv4 = DepthwiseSeparableConv(128, 256, kernel_size=3, stride=2, padding=1)\n",
    "        self.dconv5 = DepthwiseSeparableConv(256, 256, kernel_size=3, stride=1, padding=1)\n",
    "        \n",
    "        self.dconv6 = DepthwiseSeparableConv(256, 512, kernel_size=3, stride=2, padding=1)\n",
    "        self.fivex_dconv = nn.ModuleList([DepthwiseSeparableConv(512, 512, kernel_size=3, stride=1, padding=1) for _ in range(5)])\n",
    "        \n",
    "        self.dconv7 = DepthwiseSeparableConv(512, 1024, kernel_size=3, stride=2, padding=1)\n",
    "        self.dconv8 = DepthwiseSeparableConv(1024, 1024, kernel_size=3, stride=1, padding=1)\n",
    "        \n",
    "        self.dropout_dense = nn.Dropout(p=0.3)\n",
    "        self.global_avg_pool = nn.AdaptiveAvgPool2d(1)\n",
    "        self.fc = nn.Linear(1024, num_classes)\n",
    "        self.softmax = nn.Softmax()\n",
    "\n",
    "    def forward(self, x):\n",
    "        x = self.conv1(x)\n",
    "        x = self.dconv1(x)\n",
    "        x = self.dconv2(x)\n",
    "        x = self.dconv3(x)\n",
    "        x = self.dconv4(x)\n",
    "        x = self.dconv5(x)\n",
    "        x = self.dconv6(x)\n",
    "        for dconv_layer in self.fivex_dconv: x = dconv_layer(x)   \n",
    "        x = self.dconv7(x)\n",
    "        x = self.dconv8(x)\n",
    "        x = self.global_avg_pool(x)\n",
    "        x = self.dropout_dense(x)\n",
    "        x = self.fc(x.reshape(32,1024))\n",
    "        return self.softmax(x)\n",
    "\n",
    "\n",
    "# Create an instance of the model\n",
    "model = CustomDecoder(num_classes=8)\n",
    "inputs = torch.randint(0, 255, (32, 3, 128, 128),dtype=torch.float32)\n",
    "out = model(inputs)"
   ]
  },
  {
   "cell_type": "code",
   "execution_count": 67,
   "id": "58245e49",
   "metadata": {},
   "outputs": [
    {
     "data": {
      "text/plain": [
       "torch.Size([32, 8])"
      ]
     },
     "execution_count": 67,
     "metadata": {},
     "output_type": "execute_result"
    }
   ],
   "source": [
    "out.shape"
   ]
  }
 ],
 "metadata": {
  "kernelspec": {
   "display_name": "Python 3 (ipykernel)",
   "language": "python",
   "name": "python3"
  },
  "language_info": {
   "codemirror_mode": {
    "name": "ipython",
    "version": 3
   },
   "file_extension": ".py",
   "mimetype": "text/x-python",
   "name": "python",
   "nbconvert_exporter": "python",
   "pygments_lexer": "ipython3",
   "version": "3.9.13"
  }
 },
 "nbformat": 4,
 "nbformat_minor": 5
}
