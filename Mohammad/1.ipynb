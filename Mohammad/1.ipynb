{
 "cells": [
  {
   "cell_type": "markdown",
   "metadata": {},
   "source": [
    "<h3>1-2</h3>\n"
   ]
  },
  {
   "cell_type": "code",
   "execution_count": 1,
   "metadata": {},
   "outputs": [
    {
     "data": {
      "text/plain": [
       "'cpu'"
      ]
     },
     "execution_count": 1,
     "metadata": {},
     "output_type": "execute_result"
    }
   ],
   "source": [
    "import torch\n",
    "from PIL import Image\n",
    "import torchvision.transforms as transforms\n",
    "import matplotlib.pyplot as plt\n",
    "\n",
    "device = \"cpu\"  # \"cuda\" if torch.cuda.is_available else \"cpu\"\n",
    "torch.set_default_device(device)\n",
    "\n",
    "device"
   ]
  },
  {
   "cell_type": "code",
   "execution_count": 2,
   "metadata": {},
   "outputs": [
    {
     "data": {
      "text/plain": [
       "(['disgust',\n",
       "  'anger',\n",
       "  'contempt',\n",
       "  'happy',\n",
       "  'fear',\n",
       "  'neutral',\n",
       "  'surprise',\n",
       "  'sad'],\n",
       " [0, 1, 2, 3, 4, 5, 6, 7])"
      ]
     },
     "execution_count": 2,
     "metadata": {},
     "output_type": "execute_result"
    }
   ],
   "source": [
    "import os\n",
    "\n",
    "classes = train_directories = os.listdir(\"./TRAIN/\")\n",
    "discretized_classes = [i for i in range(classes.__len__())]\n",
    "classes, discretized_classes"
   ]
  },
  {
   "cell_type": "code",
   "execution_count": null,
   "metadata": {},
   "outputs": [],
   "source": []
  },
  {
   "cell_type": "code",
   "execution_count": 4,
   "metadata": {},
   "outputs": [
    {
     "ename": "",
     "evalue": "",
     "output_type": "error",
     "traceback": [
      "\u001b[1;31mThe Kernel crashed while executing code in the the current cell or a previous cell. Please review the code in the cell(s) to identify a possible cause of the failure. Click <a href='https://aka.ms/vscodeJupyterKernelCrash'>here</a> for more info. View Jupyter <a href='command:jupyter.viewOutput'>log</a> for further details."
     ]
    }
   ],
   "source": [
    "transform = transforms.Compose([transforms.PILToTensor()])\n",
    "\n",
    "X = torch.zeros((8000 + 8000, 3, 128, 128))\n",
    "finetune = torch.zeros((1600 + 1600, 3, 128, 128))\n",
    "\n",
    "for process in [\"TRAIN\", \"TUNE\"]:\n",
    "    for i in range(classes.__len__()):\n",
    "        files = os.listdir(f\"./{process}/{classes[i]}/\")\n",
    "        for j in range(files.__len__()):\n",
    "            image = Image.open(f\"./{process}/{classes[i]}/{files[j]}\")\n",
    "\n",
    "            augmented_image = transforms.RandomAffine(\n",
    "                degrees=20, translate=(0.1, 0.1), shear=30\n",
    "            )(image)\n",
    "\n",
    "            if process == \"TRAIN\":\n",
    "                X[i + j] = transform(image)\n",
    "                X[i + j + 1] = transform(augmented_image)\n",
    "            else:\n",
    "                finetune[i + j] = transform(image)\n",
    "                finetune[i + j + 1] = transform(augmented_image)\n",
    "y = torch.zeros(8000)\n",
    "y_finetune = torch.zeros(1600)\n",
    "for i in range(discretized_classes.__len__()):\n",
    "    y[i * 1000 : i * 1000 + 1000] = discretized_classes[i]\n",
    "    y_finetune[i * 200 : i * 200 + 200] = discretized_classes[i]\n",
    "\n",
    "X.shape, y.shape, finetune.shape"
   ]
  },
  {
   "cell_type": "code",
   "execution_count": null,
   "metadata": {},
   "outputs": [],
   "source": []
  }
 ],
 "metadata": {
  "kernelspec": {
   "display_name": "Python 3",
   "language": "python",
   "name": "python3"
  },
  "language_info": {
   "codemirror_mode": {
    "name": "ipython",
    "version": 3
   },
   "file_extension": ".py",
   "mimetype": "text/x-python",
   "name": "python",
   "nbconvert_exporter": "python",
   "pygments_lexer": "ipython3",
   "version": "3.10.12"
  }
 },
 "nbformat": 4,
 "nbformat_minor": 2
}
